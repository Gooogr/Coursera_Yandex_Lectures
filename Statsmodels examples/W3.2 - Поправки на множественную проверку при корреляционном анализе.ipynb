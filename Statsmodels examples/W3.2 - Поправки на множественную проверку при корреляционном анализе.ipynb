{
 "cells": [
  {
   "cell_type": "code",
   "execution_count": 1,
   "metadata": {
    "ExecuteTime": {
     "end_time": "2019-06-16T14:52:24.412696Z",
     "start_time": "2019-06-16T14:52:19.683515Z"
    }
   },
   "outputs": [],
   "source": [
    "import pandas as pd\n",
    "import numpy as np\n",
    "\n",
    "from scipy.stats import pearsonr\n",
    "from statsmodels.sandbox.stats.multicomp import multipletests"
   ]
  },
  {
   "cell_type": "markdown",
   "metadata": {},
   "source": [
    "# Foodmart product sales"
   ]
  },
  {
   "cell_type": "code",
   "execution_count": 2,
   "metadata": {
    "ExecuteTime": {
     "end_time": "2019-06-16T14:52:25.867563Z",
     "start_time": "2019-06-16T14:52:25.617850Z"
    }
   },
   "outputs": [],
   "source": [
    "sales = pd.read_csv('foodmart.sales.tsv', sep='\\t', header=0, parse_dates=[2])"
   ]
  },
  {
   "cell_type": "code",
   "execution_count": 3,
   "metadata": {
    "ExecuteTime": {
     "end_time": "2019-06-16T14:52:25.982149Z",
     "start_time": "2019-06-16T14:52:25.921486Z"
    }
   },
   "outputs": [
    {
     "data": {
      "text/html": [
       "<div>\n",
       "<style scoped>\n",
       "    .dataframe tbody tr th:only-of-type {\n",
       "        vertical-align: middle;\n",
       "    }\n",
       "\n",
       "    .dataframe tbody tr th {\n",
       "        vertical-align: top;\n",
       "    }\n",
       "\n",
       "    .dataframe thead th {\n",
       "        text-align: right;\n",
       "    }\n",
       "</style>\n",
       "<table border=\"1\" class=\"dataframe\">\n",
       "  <thead>\n",
       "    <tr style=\"text-align: right;\">\n",
       "      <th></th>\n",
       "      <th>product_id</th>\n",
       "      <th>store_id</th>\n",
       "      <th>date</th>\n",
       "      <th>sales</th>\n",
       "    </tr>\n",
       "  </thead>\n",
       "  <tbody>\n",
       "    <tr>\n",
       "      <th>0</th>\n",
       "      <td>4</td>\n",
       "      <td>6</td>\n",
       "      <td>1997-01-01</td>\n",
       "      <td>4</td>\n",
       "    </tr>\n",
       "    <tr>\n",
       "      <th>1</th>\n",
       "      <td>25</td>\n",
       "      <td>6</td>\n",
       "      <td>1997-01-01</td>\n",
       "      <td>3</td>\n",
       "    </tr>\n",
       "    <tr>\n",
       "      <th>2</th>\n",
       "      <td>48</td>\n",
       "      <td>6</td>\n",
       "      <td>1997-01-01</td>\n",
       "      <td>3</td>\n",
       "    </tr>\n",
       "    <tr>\n",
       "      <th>3</th>\n",
       "      <td>76</td>\n",
       "      <td>6</td>\n",
       "      <td>1997-01-01</td>\n",
       "      <td>4</td>\n",
       "    </tr>\n",
       "    <tr>\n",
       "      <th>4</th>\n",
       "      <td>119</td>\n",
       "      <td>6</td>\n",
       "      <td>1997-01-01</td>\n",
       "      <td>3</td>\n",
       "    </tr>\n",
       "  </tbody>\n",
       "</table>\n",
       "</div>"
      ],
      "text/plain": [
       "   product_id  store_id       date  sales\n",
       "0           4         6 1997-01-01      4\n",
       "1          25         6 1997-01-01      3\n",
       "2          48         6 1997-01-01      3\n",
       "3          76         6 1997-01-01      4\n",
       "4         119         6 1997-01-01      3"
      ]
     },
     "execution_count": 3,
     "metadata": {},
     "output_type": "execute_result"
    }
   ],
   "source": [
    "sales.head()"
   ]
  },
  {
   "cell_type": "code",
   "execution_count": 4,
   "metadata": {
    "ExecuteTime": {
     "end_time": "2019-06-16T14:52:26.138369Z",
     "start_time": "2019-06-16T14:52:26.099611Z"
    }
   },
   "outputs": [],
   "source": [
    "products = pd.read_csv('foodmart.products.tsv', sep='\\t', header=0)"
   ]
  },
  {
   "cell_type": "code",
   "execution_count": 5,
   "metadata": {
    "ExecuteTime": {
     "end_time": "2019-06-16T14:52:26.875604Z",
     "start_time": "2019-06-16T14:52:26.835082Z"
    }
   },
   "outputs": [
    {
     "data": {
      "text/html": [
       "<div>\n",
       "<style scoped>\n",
       "    .dataframe tbody tr th:only-of-type {\n",
       "        vertical-align: middle;\n",
       "    }\n",
       "\n",
       "    .dataframe tbody tr th {\n",
       "        vertical-align: top;\n",
       "    }\n",
       "\n",
       "    .dataframe thead th {\n",
       "        text-align: right;\n",
       "    }\n",
       "</style>\n",
       "<table border=\"1\" class=\"dataframe\">\n",
       "  <thead>\n",
       "    <tr style=\"text-align: right;\">\n",
       "      <th></th>\n",
       "      <th>product_class_id</th>\n",
       "      <th>product_id</th>\n",
       "      <th>brand_name</th>\n",
       "      <th>product_name</th>\n",
       "      <th>SKU</th>\n",
       "      <th>SRP</th>\n",
       "      <th>gross_weight</th>\n",
       "      <th>net_weight</th>\n",
       "      <th>recyclable_package</th>\n",
       "      <th>low_fat</th>\n",
       "      <th>units_per_case</th>\n",
       "      <th>cases_per_pallet</th>\n",
       "      <th>shelf_width</th>\n",
       "      <th>shelf_height</th>\n",
       "      <th>shelf_depth</th>\n",
       "    </tr>\n",
       "  </thead>\n",
       "  <tbody>\n",
       "    <tr>\n",
       "      <th>0</th>\n",
       "      <td>30</td>\n",
       "      <td>1</td>\n",
       "      <td>Washington</td>\n",
       "      <td>Washington Berry Juice</td>\n",
       "      <td>90748583674</td>\n",
       "      <td>2.85</td>\n",
       "      <td>8.39</td>\n",
       "      <td>6.39</td>\n",
       "      <td>False</td>\n",
       "      <td>False</td>\n",
       "      <td>30</td>\n",
       "      <td>14</td>\n",
       "      <td>16.9</td>\n",
       "      <td>12.60</td>\n",
       "      <td>7.40</td>\n",
       "    </tr>\n",
       "    <tr>\n",
       "      <th>1</th>\n",
       "      <td>52</td>\n",
       "      <td>2</td>\n",
       "      <td>Washington</td>\n",
       "      <td>Washington Mango Drink</td>\n",
       "      <td>96516502499</td>\n",
       "      <td>0.74</td>\n",
       "      <td>7.42</td>\n",
       "      <td>4.42</td>\n",
       "      <td>False</td>\n",
       "      <td>True</td>\n",
       "      <td>18</td>\n",
       "      <td>8</td>\n",
       "      <td>13.4</td>\n",
       "      <td>3.71</td>\n",
       "      <td>22.60</td>\n",
       "    </tr>\n",
       "    <tr>\n",
       "      <th>2</th>\n",
       "      <td>52</td>\n",
       "      <td>3</td>\n",
       "      <td>Washington</td>\n",
       "      <td>Washington Strawberry Drink</td>\n",
       "      <td>58427771925</td>\n",
       "      <td>0.83</td>\n",
       "      <td>13.10</td>\n",
       "      <td>11.10</td>\n",
       "      <td>True</td>\n",
       "      <td>True</td>\n",
       "      <td>17</td>\n",
       "      <td>13</td>\n",
       "      <td>14.4</td>\n",
       "      <td>11.00</td>\n",
       "      <td>7.77</td>\n",
       "    </tr>\n",
       "    <tr>\n",
       "      <th>3</th>\n",
       "      <td>19</td>\n",
       "      <td>4</td>\n",
       "      <td>Washington</td>\n",
       "      <td>Washington Cream Soda</td>\n",
       "      <td>64412155747</td>\n",
       "      <td>3.64</td>\n",
       "      <td>10.60</td>\n",
       "      <td>9.60</td>\n",
       "      <td>True</td>\n",
       "      <td>False</td>\n",
       "      <td>26</td>\n",
       "      <td>10</td>\n",
       "      <td>22.9</td>\n",
       "      <td>18.90</td>\n",
       "      <td>7.93</td>\n",
       "    </tr>\n",
       "    <tr>\n",
       "      <th>4</th>\n",
       "      <td>19</td>\n",
       "      <td>5</td>\n",
       "      <td>Washington</td>\n",
       "      <td>Washington Diet Soda</td>\n",
       "      <td>85561191439</td>\n",
       "      <td>2.19</td>\n",
       "      <td>6.66</td>\n",
       "      <td>4.65</td>\n",
       "      <td>True</td>\n",
       "      <td>False</td>\n",
       "      <td>7</td>\n",
       "      <td>10</td>\n",
       "      <td>20.7</td>\n",
       "      <td>21.90</td>\n",
       "      <td>19.20</td>\n",
       "    </tr>\n",
       "  </tbody>\n",
       "</table>\n",
       "</div>"
      ],
      "text/plain": [
       "   product_class_id  product_id  brand_name                 product_name  \\\n",
       "0                30           1  Washington       Washington Berry Juice   \n",
       "1                52           2  Washington       Washington Mango Drink   \n",
       "2                52           3  Washington  Washington Strawberry Drink   \n",
       "3                19           4  Washington        Washington Cream Soda   \n",
       "4                19           5  Washington         Washington Diet Soda   \n",
       "\n",
       "           SKU   SRP  gross_weight  net_weight  recyclable_package  low_fat  \\\n",
       "0  90748583674  2.85          8.39        6.39               False    False   \n",
       "1  96516502499  0.74          7.42        4.42               False     True   \n",
       "2  58427771925  0.83         13.10       11.10                True     True   \n",
       "3  64412155747  3.64         10.60        9.60                True    False   \n",
       "4  85561191439  2.19          6.66        4.65                True    False   \n",
       "\n",
       "   units_per_case  cases_per_pallet  shelf_width  shelf_height  shelf_depth  \n",
       "0              30                14         16.9         12.60         7.40  \n",
       "1              18                 8         13.4          3.71        22.60  \n",
       "2              17                13         14.4         11.00         7.77  \n",
       "3              26                10         22.9         18.90         7.93  \n",
       "4               7                10         20.7         21.90        19.20  "
      ]
     },
     "execution_count": 5,
     "metadata": {},
     "output_type": "execute_result"
    }
   ],
   "source": [
    "products.head()"
   ]
  },
  {
   "cell_type": "markdown",
   "metadata": {},
   "source": [
    "Объеденим таблицы, чтобы поставить в соответствии id продукта его название"
   ]
  },
  {
   "cell_type": "code",
   "execution_count": 6,
   "metadata": {
    "ExecuteTime": {
     "end_time": "2019-06-16T14:52:27.512758Z",
     "start_time": "2019-06-16T14:52:27.419393Z"
    }
   },
   "outputs": [],
   "source": [
    "sales = sales.merge(products[['product_id', 'product_name']], on=['product_id'], how='inner')"
   ]
  },
  {
   "cell_type": "code",
   "execution_count": 7,
   "metadata": {
    "ExecuteTime": {
     "end_time": "2019-06-16T14:52:28.531962Z",
     "start_time": "2019-06-16T14:52:28.505552Z"
    }
   },
   "outputs": [
    {
     "data": {
      "text/html": [
       "<div>\n",
       "<style scoped>\n",
       "    .dataframe tbody tr th:only-of-type {\n",
       "        vertical-align: middle;\n",
       "    }\n",
       "\n",
       "    .dataframe tbody tr th {\n",
       "        vertical-align: top;\n",
       "    }\n",
       "\n",
       "    .dataframe thead th {\n",
       "        text-align: right;\n",
       "    }\n",
       "</style>\n",
       "<table border=\"1\" class=\"dataframe\">\n",
       "  <thead>\n",
       "    <tr style=\"text-align: right;\">\n",
       "      <th></th>\n",
       "      <th>product_id</th>\n",
       "      <th>store_id</th>\n",
       "      <th>date</th>\n",
       "      <th>sales</th>\n",
       "      <th>product_name</th>\n",
       "    </tr>\n",
       "  </thead>\n",
       "  <tbody>\n",
       "    <tr>\n",
       "      <th>0</th>\n",
       "      <td>4</td>\n",
       "      <td>6</td>\n",
       "      <td>1997-01-01</td>\n",
       "      <td>4</td>\n",
       "      <td>Washington Cream Soda</td>\n",
       "    </tr>\n",
       "    <tr>\n",
       "      <th>1</th>\n",
       "      <td>4</td>\n",
       "      <td>7</td>\n",
       "      <td>1997-01-05</td>\n",
       "      <td>3</td>\n",
       "      <td>Washington Cream Soda</td>\n",
       "    </tr>\n",
       "    <tr>\n",
       "      <th>2</th>\n",
       "      <td>4</td>\n",
       "      <td>6</td>\n",
       "      <td>1997-01-06</td>\n",
       "      <td>2</td>\n",
       "      <td>Washington Cream Soda</td>\n",
       "    </tr>\n",
       "    <tr>\n",
       "      <th>3</th>\n",
       "      <td>4</td>\n",
       "      <td>17</td>\n",
       "      <td>1997-01-11</td>\n",
       "      <td>2</td>\n",
       "      <td>Washington Cream Soda</td>\n",
       "    </tr>\n",
       "    <tr>\n",
       "      <th>4</th>\n",
       "      <td>4</td>\n",
       "      <td>24</td>\n",
       "      <td>1997-01-11</td>\n",
       "      <td>2</td>\n",
       "      <td>Washington Cream Soda</td>\n",
       "    </tr>\n",
       "  </tbody>\n",
       "</table>\n",
       "</div>"
      ],
      "text/plain": [
       "   product_id  store_id       date  sales           product_name\n",
       "0           4         6 1997-01-01      4  Washington Cream Soda\n",
       "1           4         7 1997-01-05      3  Washington Cream Soda\n",
       "2           4         6 1997-01-06      2  Washington Cream Soda\n",
       "3           4        17 1997-01-11      2  Washington Cream Soda\n",
       "4           4        24 1997-01-11      2  Washington Cream Soda"
      ]
     },
     "execution_count": 7,
     "metadata": {},
     "output_type": "execute_result"
    }
   ],
   "source": [
    "sales.head()"
   ]
  },
  {
   "cell_type": "markdown",
   "metadata": {},
   "source": [
    "# Корреляция Пирсона"
   ]
  },
  {
   "cell_type": "code",
   "execution_count": 11,
   "metadata": {
    "ExecuteTime": {
     "end_time": "2019-06-16T14:53:56.441363Z",
     "start_time": "2019-06-16T14:53:55.558400Z"
    }
   },
   "outputs": [],
   "source": [
    "sparse_sales = pd.pivot_table(sales, values='sales', index=['date','store_id'],\n",
    "                              columns=['product_name'], fill_value=0, aggfunc=lambda x:x)"
   ]
  },
  {
   "cell_type": "code",
   "execution_count": 12,
   "metadata": {
    "ExecuteTime": {
     "end_time": "2019-06-16T14:53:56.469833Z",
     "start_time": "2019-06-16T14:53:56.444920Z"
    }
   },
   "outputs": [
    {
     "data": {
      "text/html": [
       "<div>\n",
       "<style scoped>\n",
       "    .dataframe tbody tr th:only-of-type {\n",
       "        vertical-align: middle;\n",
       "    }\n",
       "\n",
       "    .dataframe tbody tr th {\n",
       "        vertical-align: top;\n",
       "    }\n",
       "\n",
       "    .dataframe thead th {\n",
       "        text-align: right;\n",
       "    }\n",
       "</style>\n",
       "<table border=\"1\" class=\"dataframe\">\n",
       "  <thead>\n",
       "    <tr style=\"text-align: right;\">\n",
       "      <th></th>\n",
       "      <th>product_name</th>\n",
       "      <th>ADJ Rosy Sunglasses</th>\n",
       "      <th>Akron City Map</th>\n",
       "      <th>Akron Eyeglass Screwdriver</th>\n",
       "      <th>American Beef Bologna</th>\n",
       "      <th>American Chicken Hot Dogs</th>\n",
       "      <th>American Cole Slaw</th>\n",
       "      <th>American Corned Beef</th>\n",
       "      <th>American Foot-Long Hot Dogs</th>\n",
       "      <th>American Low Fat Bologna</th>\n",
       "      <th>American Low Fat Cole Slaw</th>\n",
       "      <th>...</th>\n",
       "      <th>Washington Apple Juice</th>\n",
       "      <th>Washington Berry Juice</th>\n",
       "      <th>Washington Cola</th>\n",
       "      <th>Washington Cranberry Juice</th>\n",
       "      <th>Washington Cream Soda</th>\n",
       "      <th>Washington Diet Cola</th>\n",
       "      <th>Washington Diet Soda</th>\n",
       "      <th>Washington Mango Drink</th>\n",
       "      <th>Washington Orange Juice</th>\n",
       "      <th>Washington Strawberry Drink</th>\n",
       "    </tr>\n",
       "    <tr>\n",
       "      <th>date</th>\n",
       "      <th>store_id</th>\n",
       "      <th></th>\n",
       "      <th></th>\n",
       "      <th></th>\n",
       "      <th></th>\n",
       "      <th></th>\n",
       "      <th></th>\n",
       "      <th></th>\n",
       "      <th></th>\n",
       "      <th></th>\n",
       "      <th></th>\n",
       "      <th></th>\n",
       "      <th></th>\n",
       "      <th></th>\n",
       "      <th></th>\n",
       "      <th></th>\n",
       "      <th></th>\n",
       "      <th></th>\n",
       "      <th></th>\n",
       "      <th></th>\n",
       "      <th></th>\n",
       "      <th></th>\n",
       "    </tr>\n",
       "  </thead>\n",
       "  <tbody>\n",
       "    <tr>\n",
       "      <th rowspan=\"2\" valign=\"top\">1997-01-01</th>\n",
       "      <th>6</th>\n",
       "      <td>0</td>\n",
       "      <td>0</td>\n",
       "      <td>0</td>\n",
       "      <td>0</td>\n",
       "      <td>0</td>\n",
       "      <td>0</td>\n",
       "      <td>0</td>\n",
       "      <td>0</td>\n",
       "      <td>0</td>\n",
       "      <td>0</td>\n",
       "      <td>...</td>\n",
       "      <td>0</td>\n",
       "      <td>0</td>\n",
       "      <td>0</td>\n",
       "      <td>0</td>\n",
       "      <td>4</td>\n",
       "      <td>0</td>\n",
       "      <td>0</td>\n",
       "      <td>0</td>\n",
       "      <td>0</td>\n",
       "      <td>0</td>\n",
       "    </tr>\n",
       "    <tr>\n",
       "      <th>14</th>\n",
       "      <td>0</td>\n",
       "      <td>0</td>\n",
       "      <td>0</td>\n",
       "      <td>0</td>\n",
       "      <td>0</td>\n",
       "      <td>0</td>\n",
       "      <td>0</td>\n",
       "      <td>0</td>\n",
       "      <td>0</td>\n",
       "      <td>0</td>\n",
       "      <td>...</td>\n",
       "      <td>0</td>\n",
       "      <td>0</td>\n",
       "      <td>0</td>\n",
       "      <td>0</td>\n",
       "      <td>0</td>\n",
       "      <td>0</td>\n",
       "      <td>0</td>\n",
       "      <td>0</td>\n",
       "      <td>0</td>\n",
       "      <td>0</td>\n",
       "    </tr>\n",
       "    <tr>\n",
       "      <th rowspan=\"2\" valign=\"top\">1997-01-02</th>\n",
       "      <th>11</th>\n",
       "      <td>0</td>\n",
       "      <td>0</td>\n",
       "      <td>0</td>\n",
       "      <td>0</td>\n",
       "      <td>0</td>\n",
       "      <td>0</td>\n",
       "      <td>0</td>\n",
       "      <td>0</td>\n",
       "      <td>0</td>\n",
       "      <td>0</td>\n",
       "      <td>...</td>\n",
       "      <td>0</td>\n",
       "      <td>0</td>\n",
       "      <td>0</td>\n",
       "      <td>0</td>\n",
       "      <td>0</td>\n",
       "      <td>0</td>\n",
       "      <td>0</td>\n",
       "      <td>0</td>\n",
       "      <td>0</td>\n",
       "      <td>0</td>\n",
       "    </tr>\n",
       "    <tr>\n",
       "      <th>23</th>\n",
       "      <td>0</td>\n",
       "      <td>0</td>\n",
       "      <td>0</td>\n",
       "      <td>0</td>\n",
       "      <td>0</td>\n",
       "      <td>0</td>\n",
       "      <td>0</td>\n",
       "      <td>0</td>\n",
       "      <td>0</td>\n",
       "      <td>0</td>\n",
       "      <td>...</td>\n",
       "      <td>0</td>\n",
       "      <td>0</td>\n",
       "      <td>0</td>\n",
       "      <td>0</td>\n",
       "      <td>0</td>\n",
       "      <td>0</td>\n",
       "      <td>0</td>\n",
       "      <td>0</td>\n",
       "      <td>0</td>\n",
       "      <td>0</td>\n",
       "    </tr>\n",
       "    <tr>\n",
       "      <th>1997-01-03</th>\n",
       "      <th>7</th>\n",
       "      <td>0</td>\n",
       "      <td>0</td>\n",
       "      <td>0</td>\n",
       "      <td>0</td>\n",
       "      <td>0</td>\n",
       "      <td>0</td>\n",
       "      <td>0</td>\n",
       "      <td>0</td>\n",
       "      <td>0</td>\n",
       "      <td>0</td>\n",
       "      <td>...</td>\n",
       "      <td>0</td>\n",
       "      <td>4</td>\n",
       "      <td>0</td>\n",
       "      <td>0</td>\n",
       "      <td>0</td>\n",
       "      <td>0</td>\n",
       "      <td>0</td>\n",
       "      <td>0</td>\n",
       "      <td>0</td>\n",
       "      <td>0</td>\n",
       "    </tr>\n",
       "  </tbody>\n",
       "</table>\n",
       "<p>5 rows × 1559 columns</p>\n",
       "</div>"
      ],
      "text/plain": [
       "product_name         ADJ Rosy Sunglasses  Akron City Map  \\\n",
       "date       store_id                                        \n",
       "1997-01-01 6                           0               0   \n",
       "           14                          0               0   \n",
       "1997-01-02 11                          0               0   \n",
       "           23                          0               0   \n",
       "1997-01-03 7                           0               0   \n",
       "\n",
       "product_name         Akron Eyeglass Screwdriver  American Beef Bologna  \\\n",
       "date       store_id                                                      \n",
       "1997-01-01 6                                  0                      0   \n",
       "           14                                 0                      0   \n",
       "1997-01-02 11                                 0                      0   \n",
       "           23                                 0                      0   \n",
       "1997-01-03 7                                  0                      0   \n",
       "\n",
       "product_name         American Chicken Hot Dogs  American Cole Slaw  \\\n",
       "date       store_id                                                  \n",
       "1997-01-01 6                                 0                   0   \n",
       "           14                                0                   0   \n",
       "1997-01-02 11                                0                   0   \n",
       "           23                                0                   0   \n",
       "1997-01-03 7                                 0                   0   \n",
       "\n",
       "product_name         American Corned Beef  American Foot-Long Hot Dogs  \\\n",
       "date       store_id                                                      \n",
       "1997-01-01 6                            0                            0   \n",
       "           14                           0                            0   \n",
       "1997-01-02 11                           0                            0   \n",
       "           23                           0                            0   \n",
       "1997-01-03 7                            0                            0   \n",
       "\n",
       "product_name         American Low Fat Bologna  American Low Fat Cole Slaw  \\\n",
       "date       store_id                                                         \n",
       "1997-01-01 6                                0                           0   \n",
       "           14                               0                           0   \n",
       "1997-01-02 11                               0                           0   \n",
       "           23                               0                           0   \n",
       "1997-01-03 7                                0                           0   \n",
       "\n",
       "product_name         ...  Washington Apple Juice  Washington Berry Juice  \\\n",
       "date       store_id  ...                                                   \n",
       "1997-01-01 6         ...                       0                       0   \n",
       "           14        ...                       0                       0   \n",
       "1997-01-02 11        ...                       0                       0   \n",
       "           23        ...                       0                       0   \n",
       "1997-01-03 7         ...                       0                       4   \n",
       "\n",
       "product_name         Washington Cola  Washington Cranberry Juice  \\\n",
       "date       store_id                                                \n",
       "1997-01-01 6                       0                           0   \n",
       "           14                      0                           0   \n",
       "1997-01-02 11                      0                           0   \n",
       "           23                      0                           0   \n",
       "1997-01-03 7                       0                           0   \n",
       "\n",
       "product_name         Washington Cream Soda  Washington Diet Cola  \\\n",
       "date       store_id                                                \n",
       "1997-01-01 6                             4                     0   \n",
       "           14                            0                     0   \n",
       "1997-01-02 11                            0                     0   \n",
       "           23                            0                     0   \n",
       "1997-01-03 7                             0                     0   \n",
       "\n",
       "product_name         Washington Diet Soda  Washington Mango Drink  \\\n",
       "date       store_id                                                 \n",
       "1997-01-01 6                            0                       0   \n",
       "           14                           0                       0   \n",
       "1997-01-02 11                           0                       0   \n",
       "           23                           0                       0   \n",
       "1997-01-03 7                            0                       0   \n",
       "\n",
       "product_name         Washington Orange Juice  Washington Strawberry Drink  \n",
       "date       store_id                                                        \n",
       "1997-01-01 6                               0                            0  \n",
       "           14                              0                            0  \n",
       "1997-01-02 11                              0                            0  \n",
       "           23                              0                            0  \n",
       "1997-01-03 7                               0                            0  \n",
       "\n",
       "[5 rows x 1559 columns]"
      ]
     },
     "execution_count": 12,
     "metadata": {},
     "output_type": "execute_result"
    }
   ],
   "source": [
    "sparse_sales.head()"
   ]
  },
  {
   "cell_type": "markdown",
   "metadata": {},
   "source": [
    "Соберем датафрейм, где попарно найдем корреляции для каждого из продуктов."
   ]
  },
  {
   "cell_type": "code",
   "execution_count": 17,
   "metadata": {
    "ExecuteTime": {
     "end_time": "2019-06-16T14:57:07.644399Z",
     "start_time": "2019-06-16T14:54:53.164825Z"
    }
   },
   "outputs": [],
   "source": [
    "# https://docs.scipy.org/doc/scipy-0.14.0/reference/generated/scipy.stats.pearsonr.html\n",
    "# pearson - Calculates a Pearson correlation coefficient and the p-value for testing non-correlation.\n",
    "corr_data = []\n",
    "\n",
    "\n",
    "for i, lhs_column in enumerate(sparse_sales.columns):\n",
    "    for j, rhs_column in enumerate(sparse_sales.columns):\n",
    "        if i>=j:\n",
    "            continue\n",
    "        corr, p = pearsonr(sparse_sales[lhs_column], sparse_sales[rhs_column])\n",
    "        corr_data.append([lhs_column, rhs_column, corr, p])\n"
   ]
  },
  {
   "cell_type": "code",
   "execution_count": 18,
   "metadata": {
    "ExecuteTime": {
     "end_time": "2019-06-16T14:57:08.104866Z",
     "start_time": "2019-06-16T14:57:07.648354Z"
    }
   },
   "outputs": [],
   "source": [
    "sales_correlation = pd.DataFrame.from_records(corr_data)\n",
    "sales_correlation.columns = ['product_A', 'product_B', 'corr', 'p']"
   ]
  },
  {
   "cell_type": "code",
   "execution_count": 19,
   "metadata": {
    "ExecuteTime": {
     "end_time": "2019-06-16T14:57:08.122501Z",
     "start_time": "2019-06-16T14:57:08.108127Z"
    }
   },
   "outputs": [
    {
     "data": {
      "text/html": [
       "<div>\n",
       "<style scoped>\n",
       "    .dataframe tbody tr th:only-of-type {\n",
       "        vertical-align: middle;\n",
       "    }\n",
       "\n",
       "    .dataframe tbody tr th {\n",
       "        vertical-align: top;\n",
       "    }\n",
       "\n",
       "    .dataframe thead th {\n",
       "        text-align: right;\n",
       "    }\n",
       "</style>\n",
       "<table border=\"1\" class=\"dataframe\">\n",
       "  <thead>\n",
       "    <tr style=\"text-align: right;\">\n",
       "      <th></th>\n",
       "      <th>product_A</th>\n",
       "      <th>product_B</th>\n",
       "      <th>corr</th>\n",
       "      <th>p</th>\n",
       "    </tr>\n",
       "  </thead>\n",
       "  <tbody>\n",
       "    <tr>\n",
       "      <th>0</th>\n",
       "      <td>ADJ Rosy Sunglasses</td>\n",
       "      <td>Akron City Map</td>\n",
       "      <td>0.076608</td>\n",
       "      <td>0.032414</td>\n",
       "    </tr>\n",
       "    <tr>\n",
       "      <th>1</th>\n",
       "      <td>ADJ Rosy Sunglasses</td>\n",
       "      <td>Akron Eyeglass Screwdriver</td>\n",
       "      <td>-0.006581</td>\n",
       "      <td>0.854396</td>\n",
       "    </tr>\n",
       "    <tr>\n",
       "      <th>2</th>\n",
       "      <td>ADJ Rosy Sunglasses</td>\n",
       "      <td>American Beef Bologna</td>\n",
       "      <td>0.038685</td>\n",
       "      <td>0.280546</td>\n",
       "    </tr>\n",
       "    <tr>\n",
       "      <th>3</th>\n",
       "      <td>ADJ Rosy Sunglasses</td>\n",
       "      <td>American Chicken Hot Dogs</td>\n",
       "      <td>0.041105</td>\n",
       "      <td>0.251529</td>\n",
       "    </tr>\n",
       "    <tr>\n",
       "      <th>4</th>\n",
       "      <td>ADJ Rosy Sunglasses</td>\n",
       "      <td>American Cole Slaw</td>\n",
       "      <td>-0.045887</td>\n",
       "      <td>0.200484</td>\n",
       "    </tr>\n",
       "  </tbody>\n",
       "</table>\n",
       "</div>"
      ],
      "text/plain": [
       "             product_A                   product_B      corr         p\n",
       "0  ADJ Rosy Sunglasses              Akron City Map  0.076608  0.032414\n",
       "1  ADJ Rosy Sunglasses  Akron Eyeglass Screwdriver -0.006581  0.854396\n",
       "2  ADJ Rosy Sunglasses       American Beef Bologna  0.038685  0.280546\n",
       "3  ADJ Rosy Sunglasses   American Chicken Hot Dogs  0.041105  0.251529\n",
       "4  ADJ Rosy Sunglasses          American Cole Slaw -0.045887  0.200484"
      ]
     },
     "execution_count": 19,
     "metadata": {},
     "output_type": "execute_result"
    }
   ],
   "source": [
    "sales_correlation.head()"
   ]
  },
  {
   "cell_type": "markdown",
   "metadata": {},
   "source": [
    "Сколько гипотез об отсутсвии корреляции отвергается без поправки на множественную проверку?"
   ]
  },
  {
   "cell_type": "code",
   "execution_count": 20,
   "metadata": {
    "ExecuteTime": {
     "end_time": "2019-06-16T14:57:22.947914Z",
     "start_time": "2019-06-16T14:57:22.920021Z"
    }
   },
   "outputs": [
    {
     "data": {
      "text/plain": [
       "False    982453\n",
       "True     232008\n",
       "Name: p, dtype: int64"
      ]
     },
     "execution_count": 20,
     "metadata": {},
     "output_type": "execute_result"
    }
   ],
   "source": [
    "(sales_correlation.p<0.05).value_counts()"
   ]
  },
  {
   "cell_type": "markdown",
   "metadata": {},
   "source": [
    "# Поправка на множественную проверку гипотез"
   ]
  },
  {
   "cell_type": "markdown",
   "metadata": {},
   "source": [
    "## Метод Бонферрони "
   ]
  },
  {
   "cell_type": "code",
   "execution_count": 21,
   "metadata": {
    "ExecuteTime": {
     "end_time": "2019-06-16T14:59:05.865241Z",
     "start_time": "2019-06-16T14:59:05.701423Z"
    }
   },
   "outputs": [],
   "source": [
    "reject, p_corrected, a1, a2 = multipletests(sales_correlation.p, alpha=0.05, method='bonferroni')"
   ]
  },
  {
   "cell_type": "code",
   "execution_count": 22,
   "metadata": {
    "ExecuteTime": {
     "end_time": "2019-06-16T14:59:05.982731Z",
     "start_time": "2019-06-16T14:59:05.970090Z"
    }
   },
   "outputs": [],
   "source": [
    "sales_correlation['p_corrected'] = p_corrected\n",
    "sales_correlation['reject'] = reject"
   ]
  },
  {
   "cell_type": "code",
   "execution_count": 23,
   "metadata": {
    "ExecuteTime": {
     "end_time": "2019-06-16T14:59:06.600973Z",
     "start_time": "2019-06-16T14:59:06.554989Z"
    }
   },
   "outputs": [
    {
     "data": {
      "text/html": [
       "<div>\n",
       "<style scoped>\n",
       "    .dataframe tbody tr th:only-of-type {\n",
       "        vertical-align: middle;\n",
       "    }\n",
       "\n",
       "    .dataframe tbody tr th {\n",
       "        vertical-align: top;\n",
       "    }\n",
       "\n",
       "    .dataframe thead th {\n",
       "        text-align: right;\n",
       "    }\n",
       "</style>\n",
       "<table border=\"1\" class=\"dataframe\">\n",
       "  <thead>\n",
       "    <tr style=\"text-align: right;\">\n",
       "      <th></th>\n",
       "      <th>product_A</th>\n",
       "      <th>product_B</th>\n",
       "      <th>corr</th>\n",
       "      <th>p</th>\n",
       "      <th>p_corrected</th>\n",
       "      <th>reject</th>\n",
       "    </tr>\n",
       "  </thead>\n",
       "  <tbody>\n",
       "    <tr>\n",
       "      <th>0</th>\n",
       "      <td>ADJ Rosy Sunglasses</td>\n",
       "      <td>Akron City Map</td>\n",
       "      <td>0.076608</td>\n",
       "      <td>0.032414</td>\n",
       "      <td>1.0</td>\n",
       "      <td>False</td>\n",
       "    </tr>\n",
       "    <tr>\n",
       "      <th>1</th>\n",
       "      <td>ADJ Rosy Sunglasses</td>\n",
       "      <td>Akron Eyeglass Screwdriver</td>\n",
       "      <td>-0.006581</td>\n",
       "      <td>0.854396</td>\n",
       "      <td>1.0</td>\n",
       "      <td>False</td>\n",
       "    </tr>\n",
       "    <tr>\n",
       "      <th>2</th>\n",
       "      <td>ADJ Rosy Sunglasses</td>\n",
       "      <td>American Beef Bologna</td>\n",
       "      <td>0.038685</td>\n",
       "      <td>0.280546</td>\n",
       "      <td>1.0</td>\n",
       "      <td>False</td>\n",
       "    </tr>\n",
       "    <tr>\n",
       "      <th>3</th>\n",
       "      <td>ADJ Rosy Sunglasses</td>\n",
       "      <td>American Chicken Hot Dogs</td>\n",
       "      <td>0.041105</td>\n",
       "      <td>0.251529</td>\n",
       "      <td>1.0</td>\n",
       "      <td>False</td>\n",
       "    </tr>\n",
       "    <tr>\n",
       "      <th>4</th>\n",
       "      <td>ADJ Rosy Sunglasses</td>\n",
       "      <td>American Cole Slaw</td>\n",
       "      <td>-0.045887</td>\n",
       "      <td>0.200484</td>\n",
       "      <td>1.0</td>\n",
       "      <td>False</td>\n",
       "    </tr>\n",
       "  </tbody>\n",
       "</table>\n",
       "</div>"
      ],
      "text/plain": [
       "             product_A                   product_B      corr         p  \\\n",
       "0  ADJ Rosy Sunglasses              Akron City Map  0.076608  0.032414   \n",
       "1  ADJ Rosy Sunglasses  Akron Eyeglass Screwdriver -0.006581  0.854396   \n",
       "2  ADJ Rosy Sunglasses       American Beef Bologna  0.038685  0.280546   \n",
       "3  ADJ Rosy Sunglasses   American Chicken Hot Dogs  0.041105  0.251529   \n",
       "4  ADJ Rosy Sunglasses          American Cole Slaw -0.045887  0.200484   \n",
       "\n",
       "   p_corrected  reject  \n",
       "0          1.0   False  \n",
       "1          1.0   False  \n",
       "2          1.0   False  \n",
       "3          1.0   False  \n",
       "4          1.0   False  "
      ]
     },
     "execution_count": 23,
     "metadata": {},
     "output_type": "execute_result"
    }
   ],
   "source": [
    "sales_correlation.head()"
   ]
  },
  {
   "cell_type": "code",
   "execution_count": 24,
   "metadata": {
    "ExecuteTime": {
     "end_time": "2019-06-16T14:59:07.113935Z",
     "start_time": "2019-06-16T14:59:07.081942Z"
    }
   },
   "outputs": [
    {
     "data": {
      "text/plain": [
       "False    1212733\n",
       "True        1728\n",
       "Name: reject, dtype: int64"
      ]
     },
     "execution_count": 24,
     "metadata": {},
     "output_type": "execute_result"
    }
   ],
   "source": [
    "sales_correlation['reject'].value_counts()"
   ]
  },
  {
   "cell_type": "code",
   "execution_count": 25,
   "metadata": {
    "ExecuteTime": {
     "end_time": "2019-06-16T14:59:08.326941Z",
     "start_time": "2019-06-16T14:59:08.290764Z"
    }
   },
   "outputs": [
    {
     "data": {
      "text/html": [
       "<div>\n",
       "<style scoped>\n",
       "    .dataframe tbody tr th:only-of-type {\n",
       "        vertical-align: middle;\n",
       "    }\n",
       "\n",
       "    .dataframe tbody tr th {\n",
       "        vertical-align: top;\n",
       "    }\n",
       "\n",
       "    .dataframe thead th {\n",
       "        text-align: right;\n",
       "    }\n",
       "</style>\n",
       "<table border=\"1\" class=\"dataframe\">\n",
       "  <thead>\n",
       "    <tr style=\"text-align: right;\">\n",
       "      <th></th>\n",
       "      <th>product_A</th>\n",
       "      <th>product_B</th>\n",
       "      <th>corr</th>\n",
       "      <th>p</th>\n",
       "      <th>p_corrected</th>\n",
       "      <th>reject</th>\n",
       "    </tr>\n",
       "  </thead>\n",
       "  <tbody>\n",
       "    <tr>\n",
       "      <th>1063670</th>\n",
       "      <td>Just Right Vegetable Soup</td>\n",
       "      <td>Plato French Roast Coffee</td>\n",
       "      <td>0.340598</td>\n",
       "      <td>1.226033e-22</td>\n",
       "      <td>1.488970e-16</td>\n",
       "      <td>True</td>\n",
       "    </tr>\n",
       "    <tr>\n",
       "      <th>885574</th>\n",
       "      <td>Great Muffins</td>\n",
       "      <td>Nationeel Grape Fruit Roll</td>\n",
       "      <td>0.322176</td>\n",
       "      <td>2.688803e-20</td>\n",
       "      <td>3.265446e-14</td>\n",
       "      <td>True</td>\n",
       "    </tr>\n",
       "    <tr>\n",
       "      <th>473067</th>\n",
       "      <td>Club Low Fat Cottage Cheese</td>\n",
       "      <td>Skinner Strawberry Drink</td>\n",
       "      <td>0.306701</td>\n",
       "      <td>1.883995e-18</td>\n",
       "      <td>2.288038e-12</td>\n",
       "      <td>True</td>\n",
       "    </tr>\n",
       "    <tr>\n",
       "      <th>1181001</th>\n",
       "      <td>Robust Monthly Home Magazine</td>\n",
       "      <td>Tri-State Lemons</td>\n",
       "      <td>0.303269</td>\n",
       "      <td>4.674973e-18</td>\n",
       "      <td>5.677572e-12</td>\n",
       "      <td>True</td>\n",
       "    </tr>\n",
       "    <tr>\n",
       "      <th>1160248</th>\n",
       "      <td>Pleasant Regular Ramen Soup</td>\n",
       "      <td>Shady Lake Ravioli</td>\n",
       "      <td>0.298502</td>\n",
       "      <td>1.619119e-17</td>\n",
       "      <td>1.966356e-11</td>\n",
       "      <td>True</td>\n",
       "    </tr>\n",
       "  </tbody>\n",
       "</table>\n",
       "</div>"
      ],
      "text/plain": [
       "                            product_A                   product_B      corr  \\\n",
       "1063670     Just Right Vegetable Soup   Plato French Roast Coffee  0.340598   \n",
       "885574                  Great Muffins  Nationeel Grape Fruit Roll  0.322176   \n",
       "473067    Club Low Fat Cottage Cheese    Skinner Strawberry Drink  0.306701   \n",
       "1181001  Robust Monthly Home Magazine            Tri-State Lemons  0.303269   \n",
       "1160248   Pleasant Regular Ramen Soup          Shady Lake Ravioli  0.298502   \n",
       "\n",
       "                    p   p_corrected  reject  \n",
       "1063670  1.226033e-22  1.488970e-16    True  \n",
       "885574   2.688803e-20  3.265446e-14    True  \n",
       "473067   1.883995e-18  2.288038e-12    True  \n",
       "1181001  4.674973e-18  5.677572e-12    True  \n",
       "1160248  1.619119e-17  1.966356e-11    True  "
      ]
     },
     "execution_count": 25,
     "metadata": {},
     "output_type": "execute_result"
    }
   ],
   "source": [
    "sales_correlation[sales_correlation.reject == True].sort_values(by='corr', ascending=False).head()"
   ]
  },
  {
   "cell_type": "markdown",
   "metadata": {},
   "source": [
    "## Метод Холма"
   ]
  },
  {
   "cell_type": "code",
   "execution_count": 26,
   "metadata": {
    "ExecuteTime": {
     "end_time": "2019-06-16T15:00:20.514366Z",
     "start_time": "2019-06-16T15:00:20.202172Z"
    }
   },
   "outputs": [],
   "source": [
    "reject, p_corrected, a1, a2 = multipletests(sales_correlation.p, alpha=0.05, method='holm')"
   ]
  },
  {
   "cell_type": "code",
   "execution_count": 27,
   "metadata": {
    "ExecuteTime": {
     "end_time": "2019-06-16T15:00:20.526993Z",
     "start_time": "2019-06-16T15:00:20.518025Z"
    }
   },
   "outputs": [],
   "source": [
    "sales_correlation['p_corrected'] = p_corrected\n",
    "sales_correlation['reject'] = reject"
   ]
  },
  {
   "cell_type": "code",
   "execution_count": 28,
   "metadata": {
    "ExecuteTime": {
     "end_time": "2019-06-16T15:00:20.771159Z",
     "start_time": "2019-06-16T15:00:20.757048Z"
    }
   },
   "outputs": [
    {
     "data": {
      "text/html": [
       "<div>\n",
       "<style scoped>\n",
       "    .dataframe tbody tr th:only-of-type {\n",
       "        vertical-align: middle;\n",
       "    }\n",
       "\n",
       "    .dataframe tbody tr th {\n",
       "        vertical-align: top;\n",
       "    }\n",
       "\n",
       "    .dataframe thead th {\n",
       "        text-align: right;\n",
       "    }\n",
       "</style>\n",
       "<table border=\"1\" class=\"dataframe\">\n",
       "  <thead>\n",
       "    <tr style=\"text-align: right;\">\n",
       "      <th></th>\n",
       "      <th>product_A</th>\n",
       "      <th>product_B</th>\n",
       "      <th>corr</th>\n",
       "      <th>p</th>\n",
       "      <th>p_corrected</th>\n",
       "      <th>reject</th>\n",
       "    </tr>\n",
       "  </thead>\n",
       "  <tbody>\n",
       "    <tr>\n",
       "      <th>0</th>\n",
       "      <td>ADJ Rosy Sunglasses</td>\n",
       "      <td>Akron City Map</td>\n",
       "      <td>0.076608</td>\n",
       "      <td>0.032414</td>\n",
       "      <td>1.0</td>\n",
       "      <td>False</td>\n",
       "    </tr>\n",
       "    <tr>\n",
       "      <th>1</th>\n",
       "      <td>ADJ Rosy Sunglasses</td>\n",
       "      <td>Akron Eyeglass Screwdriver</td>\n",
       "      <td>-0.006581</td>\n",
       "      <td>0.854396</td>\n",
       "      <td>1.0</td>\n",
       "      <td>False</td>\n",
       "    </tr>\n",
       "    <tr>\n",
       "      <th>2</th>\n",
       "      <td>ADJ Rosy Sunglasses</td>\n",
       "      <td>American Beef Bologna</td>\n",
       "      <td>0.038685</td>\n",
       "      <td>0.280546</td>\n",
       "      <td>1.0</td>\n",
       "      <td>False</td>\n",
       "    </tr>\n",
       "    <tr>\n",
       "      <th>3</th>\n",
       "      <td>ADJ Rosy Sunglasses</td>\n",
       "      <td>American Chicken Hot Dogs</td>\n",
       "      <td>0.041105</td>\n",
       "      <td>0.251529</td>\n",
       "      <td>1.0</td>\n",
       "      <td>False</td>\n",
       "    </tr>\n",
       "    <tr>\n",
       "      <th>4</th>\n",
       "      <td>ADJ Rosy Sunglasses</td>\n",
       "      <td>American Cole Slaw</td>\n",
       "      <td>-0.045887</td>\n",
       "      <td>0.200484</td>\n",
       "      <td>1.0</td>\n",
       "      <td>False</td>\n",
       "    </tr>\n",
       "  </tbody>\n",
       "</table>\n",
       "</div>"
      ],
      "text/plain": [
       "             product_A                   product_B      corr         p  \\\n",
       "0  ADJ Rosy Sunglasses              Akron City Map  0.076608  0.032414   \n",
       "1  ADJ Rosy Sunglasses  Akron Eyeglass Screwdriver -0.006581  0.854396   \n",
       "2  ADJ Rosy Sunglasses       American Beef Bologna  0.038685  0.280546   \n",
       "3  ADJ Rosy Sunglasses   American Chicken Hot Dogs  0.041105  0.251529   \n",
       "4  ADJ Rosy Sunglasses          American Cole Slaw -0.045887  0.200484   \n",
       "\n",
       "   p_corrected  reject  \n",
       "0          1.0   False  \n",
       "1          1.0   False  \n",
       "2          1.0   False  \n",
       "3          1.0   False  \n",
       "4          1.0   False  "
      ]
     },
     "execution_count": 28,
     "metadata": {},
     "output_type": "execute_result"
    }
   ],
   "source": [
    "sales_correlation.head()"
   ]
  },
  {
   "cell_type": "code",
   "execution_count": 29,
   "metadata": {
    "ExecuteTime": {
     "end_time": "2019-06-16T15:00:21.433421Z",
     "start_time": "2019-06-16T15:00:21.385535Z"
    }
   },
   "outputs": [
    {
     "data": {
      "text/plain": [
       "False    1212733\n",
       "True        1728\n",
       "Name: reject, dtype: int64"
      ]
     },
     "execution_count": 29,
     "metadata": {},
     "output_type": "execute_result"
    }
   ],
   "source": [
    "sales_correlation['reject'].value_counts()"
   ]
  },
  {
   "cell_type": "markdown",
   "metadata": {},
   "source": [
    "Отвергаем 1728 гипотез против 232008"
   ]
  },
  {
   "cell_type": "code",
   "execution_count": 86,
   "metadata": {},
   "outputs": [
    {
     "data": {
      "text/html": [
       "<div>\n",
       "<style scoped>\n",
       "    .dataframe tbody tr th:only-of-type {\n",
       "        vertical-align: middle;\n",
       "    }\n",
       "\n",
       "    .dataframe tbody tr th {\n",
       "        vertical-align: top;\n",
       "    }\n",
       "\n",
       "    .dataframe thead th {\n",
       "        text-align: right;\n",
       "    }\n",
       "</style>\n",
       "<table border=\"1\" class=\"dataframe\">\n",
       "  <thead>\n",
       "    <tr style=\"text-align: right;\">\n",
       "      <th></th>\n",
       "      <th>product_A</th>\n",
       "      <th>product_B</th>\n",
       "      <th>corr</th>\n",
       "      <th>p</th>\n",
       "      <th>p_corrected</th>\n",
       "      <th>reject</th>\n",
       "    </tr>\n",
       "  </thead>\n",
       "  <tbody>\n",
       "    <tr>\n",
       "      <th>1063670</th>\n",
       "      <td>Just Right Vegetable Soup</td>\n",
       "      <td>Plato French Roast Coffee</td>\n",
       "      <td>0.340598</td>\n",
       "      <td>1.226033e-22</td>\n",
       "      <td>1.488970e-16</td>\n",
       "      <td>True</td>\n",
       "    </tr>\n",
       "    <tr>\n",
       "      <th>885574</th>\n",
       "      <td>Great Muffins</td>\n",
       "      <td>Nationeel Grape Fruit Roll</td>\n",
       "      <td>0.322176</td>\n",
       "      <td>2.688803e-20</td>\n",
       "      <td>3.265443e-14</td>\n",
       "      <td>True</td>\n",
       "    </tr>\n",
       "    <tr>\n",
       "      <th>473067</th>\n",
       "      <td>Club Low Fat Cottage Cheese</td>\n",
       "      <td>Skinner Strawberry Drink</td>\n",
       "      <td>0.306701</td>\n",
       "      <td>1.883995e-18</td>\n",
       "      <td>2.288034e-12</td>\n",
       "      <td>True</td>\n",
       "    </tr>\n",
       "    <tr>\n",
       "      <th>1181001</th>\n",
       "      <td>Robust Monthly Home Magazine</td>\n",
       "      <td>Tri-State Lemons</td>\n",
       "      <td>0.303269</td>\n",
       "      <td>4.674973e-18</td>\n",
       "      <td>5.677558e-12</td>\n",
       "      <td>True</td>\n",
       "    </tr>\n",
       "    <tr>\n",
       "      <th>1160248</th>\n",
       "      <td>Pleasant Regular Ramen Soup</td>\n",
       "      <td>Shady Lake Ravioli</td>\n",
       "      <td>0.298502</td>\n",
       "      <td>1.619119e-17</td>\n",
       "      <td>1.966350e-11</td>\n",
       "      <td>True</td>\n",
       "    </tr>\n",
       "  </tbody>\n",
       "</table>\n",
       "</div>"
      ],
      "text/plain": [
       "                            product_A                   product_B      corr  \\\n",
       "1063670     Just Right Vegetable Soup   Plato French Roast Coffee  0.340598   \n",
       "885574                  Great Muffins  Nationeel Grape Fruit Roll  0.322176   \n",
       "473067    Club Low Fat Cottage Cheese    Skinner Strawberry Drink  0.306701   \n",
       "1181001  Robust Monthly Home Magazine            Tri-State Lemons  0.303269   \n",
       "1160248   Pleasant Regular Ramen Soup          Shady Lake Ravioli  0.298502   \n",
       "\n",
       "                    p   p_corrected  reject  \n",
       "1063670  1.226033e-22  1.488970e-16    True  \n",
       "885574   2.688803e-20  3.265443e-14    True  \n",
       "473067   1.883995e-18  2.288034e-12    True  \n",
       "1181001  4.674973e-18  5.677558e-12    True  \n",
       "1160248  1.619119e-17  1.966350e-11    True  "
      ]
     },
     "execution_count": 86,
     "metadata": {},
     "output_type": "execute_result"
    }
   ],
   "source": [
    "sales_correlation[sales_correlation.reject == True].sort_values(by='corr', ascending=False).head()\n",
    "# запись sales_correlation.reject эквивалентна sales_correlation['reject']"
   ]
  },
  {
   "cell_type": "markdown",
   "metadata": {},
   "source": [
    "## Метод Бенджамини-Хохберга"
   ]
  },
  {
   "cell_type": "code",
   "execution_count": 30,
   "metadata": {
    "ExecuteTime": {
     "end_time": "2019-06-16T15:00:39.830164Z",
     "start_time": "2019-06-16T15:00:39.621442Z"
    }
   },
   "outputs": [],
   "source": [
    "reject, p_corrected, a1, a2 = multipletests(sales_correlation.p, alpha=0.05, method='fdr_bh')"
   ]
  },
  {
   "cell_type": "code",
   "execution_count": 31,
   "metadata": {
    "ExecuteTime": {
     "end_time": "2019-06-16T15:00:40.006852Z",
     "start_time": "2019-06-16T15:00:39.996270Z"
    }
   },
   "outputs": [],
   "source": [
    "sales_correlation['p_corrected'] = p_corrected\n",
    "sales_correlation['reject'] = reject"
   ]
  },
  {
   "cell_type": "code",
   "execution_count": 32,
   "metadata": {
    "ExecuteTime": {
     "end_time": "2019-06-16T15:00:40.452290Z",
     "start_time": "2019-06-16T15:00:40.395428Z"
    }
   },
   "outputs": [
    {
     "data": {
      "text/html": [
       "<div>\n",
       "<style scoped>\n",
       "    .dataframe tbody tr th:only-of-type {\n",
       "        vertical-align: middle;\n",
       "    }\n",
       "\n",
       "    .dataframe tbody tr th {\n",
       "        vertical-align: top;\n",
       "    }\n",
       "\n",
       "    .dataframe thead th {\n",
       "        text-align: right;\n",
       "    }\n",
       "</style>\n",
       "<table border=\"1\" class=\"dataframe\">\n",
       "  <thead>\n",
       "    <tr style=\"text-align: right;\">\n",
       "      <th></th>\n",
       "      <th>product_A</th>\n",
       "      <th>product_B</th>\n",
       "      <th>corr</th>\n",
       "      <th>p</th>\n",
       "      <th>p_corrected</th>\n",
       "      <th>reject</th>\n",
       "    </tr>\n",
       "  </thead>\n",
       "  <tbody>\n",
       "    <tr>\n",
       "      <th>0</th>\n",
       "      <td>ADJ Rosy Sunglasses</td>\n",
       "      <td>Akron City Map</td>\n",
       "      <td>0.076608</td>\n",
       "      <td>0.032414</td>\n",
       "      <td>0.203716</td>\n",
       "      <td>False</td>\n",
       "    </tr>\n",
       "    <tr>\n",
       "      <th>1</th>\n",
       "      <td>ADJ Rosy Sunglasses</td>\n",
       "      <td>Akron Eyeglass Screwdriver</td>\n",
       "      <td>-0.006581</td>\n",
       "      <td>0.854396</td>\n",
       "      <td>0.956078</td>\n",
       "      <td>False</td>\n",
       "    </tr>\n",
       "    <tr>\n",
       "      <th>2</th>\n",
       "      <td>ADJ Rosy Sunglasses</td>\n",
       "      <td>American Beef Bologna</td>\n",
       "      <td>0.038685</td>\n",
       "      <td>0.280546</td>\n",
       "      <td>0.630699</td>\n",
       "      <td>False</td>\n",
       "    </tr>\n",
       "    <tr>\n",
       "      <th>3</th>\n",
       "      <td>ADJ Rosy Sunglasses</td>\n",
       "      <td>American Chicken Hot Dogs</td>\n",
       "      <td>0.041105</td>\n",
       "      <td>0.251529</td>\n",
       "      <td>0.600790</td>\n",
       "      <td>False</td>\n",
       "    </tr>\n",
       "    <tr>\n",
       "      <th>4</th>\n",
       "      <td>ADJ Rosy Sunglasses</td>\n",
       "      <td>American Cole Slaw</td>\n",
       "      <td>-0.045887</td>\n",
       "      <td>0.200484</td>\n",
       "      <td>0.541916</td>\n",
       "      <td>False</td>\n",
       "    </tr>\n",
       "  </tbody>\n",
       "</table>\n",
       "</div>"
      ],
      "text/plain": [
       "             product_A                   product_B      corr         p  \\\n",
       "0  ADJ Rosy Sunglasses              Akron City Map  0.076608  0.032414   \n",
       "1  ADJ Rosy Sunglasses  Akron Eyeglass Screwdriver -0.006581  0.854396   \n",
       "2  ADJ Rosy Sunglasses       American Beef Bologna  0.038685  0.280546   \n",
       "3  ADJ Rosy Sunglasses   American Chicken Hot Dogs  0.041105  0.251529   \n",
       "4  ADJ Rosy Sunglasses          American Cole Slaw -0.045887  0.200484   \n",
       "\n",
       "   p_corrected  reject  \n",
       "0     0.203716   False  \n",
       "1     0.956078   False  \n",
       "2     0.630699   False  \n",
       "3     0.600790   False  \n",
       "4     0.541916   False  "
      ]
     },
     "execution_count": 32,
     "metadata": {},
     "output_type": "execute_result"
    }
   ],
   "source": [
    "sales_correlation.head()"
   ]
  },
  {
   "cell_type": "code",
   "execution_count": 33,
   "metadata": {
    "ExecuteTime": {
     "end_time": "2019-06-16T15:00:41.139916Z",
     "start_time": "2019-06-16T15:00:41.113697Z"
    }
   },
   "outputs": [
    {
     "data": {
      "text/plain": [
       "False    1138407\n",
       "True       76054\n",
       "Name: reject, dtype: int64"
      ]
     },
     "execution_count": 33,
     "metadata": {},
     "output_type": "execute_result"
    }
   ],
   "source": [
    "sales_correlation['reject'].value_counts()"
   ]
  },
  {
   "cell_type": "code",
   "execution_count": 34,
   "metadata": {
    "ExecuteTime": {
     "end_time": "2019-06-16T15:00:42.043496Z",
     "start_time": "2019-06-16T15:00:41.994678Z"
    }
   },
   "outputs": [
    {
     "data": {
      "text/html": [
       "<div>\n",
       "<style scoped>\n",
       "    .dataframe tbody tr th:only-of-type {\n",
       "        vertical-align: middle;\n",
       "    }\n",
       "\n",
       "    .dataframe tbody tr th {\n",
       "        vertical-align: top;\n",
       "    }\n",
       "\n",
       "    .dataframe thead th {\n",
       "        text-align: right;\n",
       "    }\n",
       "</style>\n",
       "<table border=\"1\" class=\"dataframe\">\n",
       "  <thead>\n",
       "    <tr style=\"text-align: right;\">\n",
       "      <th></th>\n",
       "      <th>product_A</th>\n",
       "      <th>product_B</th>\n",
       "      <th>corr</th>\n",
       "      <th>p</th>\n",
       "      <th>p_corrected</th>\n",
       "      <th>reject</th>\n",
       "    </tr>\n",
       "  </thead>\n",
       "  <tbody>\n",
       "    <tr>\n",
       "      <th>1063670</th>\n",
       "      <td>Just Right Vegetable Soup</td>\n",
       "      <td>Plato French Roast Coffee</td>\n",
       "      <td>0.340598</td>\n",
       "      <td>1.226033e-22</td>\n",
       "      <td>1.488970e-16</td>\n",
       "      <td>True</td>\n",
       "    </tr>\n",
       "    <tr>\n",
       "      <th>885574</th>\n",
       "      <td>Great Muffins</td>\n",
       "      <td>Nationeel Grape Fruit Roll</td>\n",
       "      <td>0.322176</td>\n",
       "      <td>2.688803e-20</td>\n",
       "      <td>1.632723e-14</td>\n",
       "      <td>True</td>\n",
       "    </tr>\n",
       "    <tr>\n",
       "      <th>473067</th>\n",
       "      <td>Club Low Fat Cottage Cheese</td>\n",
       "      <td>Skinner Strawberry Drink</td>\n",
       "      <td>0.306701</td>\n",
       "      <td>1.883995e-18</td>\n",
       "      <td>7.626793e-13</td>\n",
       "      <td>True</td>\n",
       "    </tr>\n",
       "    <tr>\n",
       "      <th>1181001</th>\n",
       "      <td>Robust Monthly Home Magazine</td>\n",
       "      <td>Tri-State Lemons</td>\n",
       "      <td>0.303269</td>\n",
       "      <td>4.674973e-18</td>\n",
       "      <td>1.419393e-12</td>\n",
       "      <td>True</td>\n",
       "    </tr>\n",
       "    <tr>\n",
       "      <th>1160248</th>\n",
       "      <td>Pleasant Regular Ramen Soup</td>\n",
       "      <td>Shady Lake Ravioli</td>\n",
       "      <td>0.298502</td>\n",
       "      <td>1.619119e-17</td>\n",
       "      <td>3.932713e-12</td>\n",
       "      <td>True</td>\n",
       "    </tr>\n",
       "  </tbody>\n",
       "</table>\n",
       "</div>"
      ],
      "text/plain": [
       "                            product_A                   product_B      corr  \\\n",
       "1063670     Just Right Vegetable Soup   Plato French Roast Coffee  0.340598   \n",
       "885574                  Great Muffins  Nationeel Grape Fruit Roll  0.322176   \n",
       "473067    Club Low Fat Cottage Cheese    Skinner Strawberry Drink  0.306701   \n",
       "1181001  Robust Monthly Home Magazine            Tri-State Lemons  0.303269   \n",
       "1160248   Pleasant Regular Ramen Soup          Shady Lake Ravioli  0.298502   \n",
       "\n",
       "                    p   p_corrected  reject  \n",
       "1063670  1.226033e-22  1.488970e-16    True  \n",
       "885574   2.688803e-20  1.632723e-14    True  \n",
       "473067   1.883995e-18  7.626793e-13    True  \n",
       "1181001  4.674973e-18  1.419393e-12    True  \n",
       "1160248  1.619119e-17  3.932713e-12    True  "
      ]
     },
     "execution_count": 34,
     "metadata": {},
     "output_type": "execute_result"
    }
   ],
   "source": [
    "sales_correlation[sales_correlation.reject == True].sort_values(by='corr', ascending=False).head()"
   ]
  }
 ],
 "metadata": {
  "kernelspec": {
   "display_name": "Python 2",
   "language": "python",
   "name": "python2"
  },
  "language_info": {
   "codemirror_mode": {
    "name": "ipython",
    "version": 2
   },
   "file_extension": ".py",
   "mimetype": "text/x-python",
   "name": "python",
   "nbconvert_exporter": "python",
   "pygments_lexer": "ipython2",
   "version": "2.7.16"
  }
 },
 "nbformat": 4,
 "nbformat_minor": 2
}
